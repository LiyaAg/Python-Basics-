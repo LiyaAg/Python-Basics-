{
  "nbformat": 4,
  "nbformat_minor": 0,
  "metadata": {
    "colab": {
      "provenance": [],
      "authorship_tag": "ABX9TyPZar41NIsuUV5qK9k4F4uh",
      "include_colab_link": true
    },
    "kernelspec": {
      "name": "python3",
      "display_name": "Python 3"
    },
    "language_info": {
      "name": "python"
    }
  },
  "cells": [
    {
      "cell_type": "markdown",
      "metadata": {
        "id": "view-in-github",
        "colab_type": "text"
      },
      "source": [
        "<a href=\"https://colab.research.google.com/github/LiyaAg/Python-Basics-/blob/main/Practice_Questions(16_Nov)_.ipynb\" target=\"_parent\"><img src=\"https://colab.research.google.com/assets/colab-badge.svg\" alt=\"Open In Colab\"/></a>"
      ]
    },
    {
      "cell_type": "code",
      "source": [
        "\n",
        "x=int(input(\"Grade :\"))\n",
        "if x< 25 :\n",
        "  print(\"F\")\n",
        "if 25<x<45 :\n",
        "  print(\"E\")\n",
        "if 45<x<50 :\n",
        "  print(\"D\")\n",
        "if 50<x<60 :\n",
        "  print(\"C\")\n",
        "if 60<x<80 :\n",
        "  print(\"B\")\n",
        "if x>80 :\n",
        "  print(\"A\")\n"
      ],
      "metadata": {
        "colab": {
          "base_uri": "https://localhost:8080/"
        },
        "id": "rWA7vaYtgqbg",
        "outputId": "37862d92-6539-49bc-f526-fac53d6a6ca4"
      },
      "execution_count": null,
      "outputs": [
        {
          "output_type": "stream",
          "name": "stdout",
          "text": [
            "Grade :90\n",
            "A\n"
          ]
        }
      ]
    },
    {
      "cell_type": "code",
      "source": [
        "x=int(input())\n",
        "if x>0 :\n",
        "  print(\"absolute value of \",x,\"is\",x)\n",
        "else:\n",
        "  x=x*(-1)\n",
        "  print(\"absolute value of -\",x,\"is\",x)\n"
      ],
      "metadata": {
        "colab": {
          "base_uri": "https://localhost:8080/"
        },
        "id": "9jIkIsGQj_Gs",
        "outputId": "b2f2feb3-3b9b-40c9-af2f-111236bbdf1f"
      },
      "execution_count": null,
      "outputs": [
        {
          "output_type": "stream",
          "name": "stdout",
          "text": [
            "-25\n",
            "absolute value of - 25 is 25\n"
          ]
        }
      ]
    },
    {
      "cell_type": "code",
      "source": [
        "x=int(input(\"Number of Classes Held :\"))\n",
        "y=int(input(\"Number of Classes Attended :\"))\n",
        "z=y/x*100\n",
        "if x>75 :\n",
        "  print(z,\"You can sit for examination\")\n",
        "else :\n",
        "  print(z,\"You cannot sit for examination\")"
      ],
      "metadata": {
        "colab": {
          "base_uri": "https://localhost:8080/"
        },
        "id": "rf6RpcIOqYAu",
        "outputId": "705fa246-9e1b-455d-905e-64cf5a5f96ed"
      },
      "execution_count": null,
      "outputs": [
        {
          "output_type": "stream",
          "name": "stdout",
          "text": [
            "Number of Classes Held :200\n",
            "Number of Classes Attended :180\n",
            "90.0 You can sit for examination\n"
          ]
        }
      ]
    },
    {
      "cell_type": "code",
      "source": [
        "# Write a program for calculator\n",
        "print(\"1.Addition\")\n",
        "print(\"2.Subtraction\")\n",
        "print(\"3.Mulitplication\")\n",
        "print(\"4.Division\")\n",
        "print(\"6.Floor Division\")\n",
        "print(\"7.Exponent\")\n",
        "x=int(input(\"Choose the number\"))\n",
        "y=int(input(\"Enter the first number:\"))\n",
        "z=int(input(\"Enter the second number:\"))\n",
        "if x==1:\n",
        " print(y+z)\n",
        "if x==2:\n",
        " print(y-z)\n",
        "if x==3:\n",
        "  print(y*z)\n",
        "if x==4:\n",
        "  print(y/z)\n",
        "if x==5:\n",
        "  print(y%z)\n",
        "if x==6:\n",
        "  print(y//z)\n",
        "if x==7:\n",
        "  print(y**z)\n",
        "\n"
      ],
      "metadata": {
        "colab": {
          "base_uri": "https://localhost:8080/"
        },
        "id": "O-Lxu8SotMuF",
        "outputId": "9a73811a-ca3a-404f-e1a1-81cd6a3a568b"
      },
      "execution_count": null,
      "outputs": [
        {
          "output_type": "stream",
          "name": "stdout",
          "text": [
            "1.Addition\n",
            "2.Subtraction\n",
            "3.Mulitplication\n",
            "4.Division\n",
            "6.Floor Division\n",
            "7.Exponent\n",
            "Choose the number1\n",
            "Enter the first number:10\n",
            "Enter the second number:5\n",
            "15\n"
          ]
        }
      ]
    },
    {
      "cell_type": "code",
      "source": [
        "import statistics\n",
        "n1=int(input(\"Marks of First Subject:\"))\n",
        "n2=int(input(\"Marks of Second Subject:\"))\n",
        "n3=int(input(\"Marks of Third Subject:\"))\n",
        "n4=int(input(\"Marks of Fourth Subject:\"))\n",
        "n5=int(input(\"Marks of Fifth Subject:\"))\n",
        "print('Least Marks:',min(n1,n2,n3,n4,n5))\n",
        "print('Maximum Marks:',max(n1,n2,n3,n4,n5))\n",
        "z=n1,n2,n3,n4,n5\n",
        "print('Average Marks:',statistics.mean(z))"
      ],
      "metadata": {
        "colab": {
          "base_uri": "https://localhost:8080/"
        },
        "id": "Hkx0mFbc21BA",
        "outputId": "5c27f55c-34c0-4b1a-ec1c-b4f883d69deb"
      },
      "execution_count": 6,
      "outputs": [
        {
          "output_type": "stream",
          "name": "stdout",
          "text": [
            "Marks of First Subject:15\n",
            "Marks of Second Subject:25\n",
            "Marks of Third Subject:45\n",
            "Marks of Fourth Subject:30\n",
            "Marks of Fifth Subject:20\n",
            "Least Marks: 15\n",
            "Maximum Marks: 45\n",
            "Average Marks: 27\n"
          ]
        }
      ]
    }
  ]
}