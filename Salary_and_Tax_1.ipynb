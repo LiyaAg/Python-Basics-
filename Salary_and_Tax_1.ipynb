{
  "nbformat": 4,
  "nbformat_minor": 0,
  "metadata": {
    "colab": {
      "provenance": [],
      "collapsed_sections": [],
      "authorship_tag": "ABX9TyPAJJyiIcj44Ne1uTC74Ydq",
      "include_colab_link": true
    },
    "kernelspec": {
      "name": "python3",
      "display_name": "Python 3"
    },
    "language_info": {
      "name": "python"
    }
  },
  "cells": [
    {
      "cell_type": "markdown",
      "metadata": {
        "id": "view-in-github",
        "colab_type": "text"
      },
      "source": [
        "<a href=\"https://colab.research.google.com/github/LiyaAg/Python-Basics-/blob/main/Salary_and_Tax_1.ipynb\" target=\"_parent\"><img src=\"https://colab.research.google.com/assets/colab-badge.svg\" alt=\"Open In Colab\"/></a>"
      ]
    },
    {
      "cell_type": "code",
      "execution_count": 1,
      "metadata": {
        "colab": {
          "base_uri": "https://localhost:8080/"
        },
        "id": "fwvkIFvWb_YU",
        "outputId": "602a8c82-3fcc-4c96-b3cb-e04f8f3ce31d"
      },
      "outputs": [
        {
          "output_type": "stream",
          "name": "stdout",
          "text": [
            "800000\n",
            "15000.0\n"
          ]
        }
      ],
      "source": [
        "salary=int(input())\n",
        "if salary <250000:\n",
        "  print(\"no tax\") \n",
        "if 250000 <salary <500000: \n",
        "  print((salary-250000)*10/100)\n",
        "if 500000 <salary <750000: \n",
        "  print((salary-500000)*20/100)\n",
        "if salary >750000:\n",
        "  print((salary-750000)*30/100)"
      ]
    },
    {
      "cell_type": "code",
      "source": [
        "salary=int(input())\n",
        "if salary <250000:\n",
        "  print(\"no tax\") \n",
        "if 250000 <salary <500000: \n",
        "  print((salary-250000)*10/100)\n",
        "if 500000 <salary <750000: \n",
        "  print((salary-500000)*20/100)+((salary-250000)*10/100)\n",
        "if salary >750000:\n",
        "  print((salary-750000)*30/100+(salary-500000)*20/100+(salary-250000)*10/100)\n",
        "if salary>10000000:\n",
        "  print((salary-750000)*30/100+(salary-500000)*20/100+(salary-250000)*10/100+(salary-10000000)*2/100)"
      ],
      "metadata": {
        "colab": {
          "base_uri": "https://localhost:8080/"
        },
        "id": "B9pATgXVcIhn",
        "outputId": "92eb9ee1-1d97-4c3a-bd4d-8648ae9beb8f"
      },
      "execution_count": 2,
      "outputs": [
        {
          "output_type": "stream",
          "name": "stdout",
          "text": [
            "20000000\n",
            "11650000.0\n",
            "11850000.0\n"
          ]
        }
      ]
    },
    {
      "cell_type": "code",
      "source": [],
      "metadata": {
        "id": "0Ucad9aJcUfb"
      },
      "execution_count": null,
      "outputs": []
    }
  ]
}