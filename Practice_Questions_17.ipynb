{
  "nbformat": 4,
  "nbformat_minor": 0,
  "metadata": {
    "colab": {
      "provenance": [],
      "authorship_tag": "ABX9TyNAcxySfV/YfQzteq/m9Gmi",
      "include_colab_link": true
    },
    "kernelspec": {
      "name": "python3",
      "display_name": "Python 3"
    },
    "language_info": {
      "name": "python"
    }
  },
  "cells": [
    {
      "cell_type": "markdown",
      "metadata": {
        "id": "view-in-github",
        "colab_type": "text"
      },
      "source": [
        "<a href=\"https://colab.research.google.com/github/LiyaAg/Python-Basics-/blob/main/Practice_Questions_17.ipynb\" target=\"_parent\"><img src=\"https://colab.research.google.com/assets/colab-badge.svg\" alt=\"Open In Colab\"/></a>"
      ]
    },
    {
      "cell_type": "code",
      "execution_count": 3,
      "metadata": {
        "colab": {
          "base_uri": "https://localhost:8080/"
        },
        "id": "jYAE79b3xFFJ",
        "outputId": "93ed6010-ef58-490b-d041-ab01423e0fa5"
      },
      "outputs": [
        {
          "output_type": "stream",
          "name": "stdout",
          "text": [
            "enter the number to display the corresponding multiplication:5\n",
            "1 * 5 = 5\n",
            "2 * 5 = 10\n",
            "3 * 5 = 15\n",
            "4 * 5 = 20\n",
            "5 * 5 = 25\n",
            "6 * 5 = 30\n",
            "7 * 5 = 35\n",
            "8 * 5 = 40\n",
            "9 * 5 = 45\n",
            "10 * 5 = 50\n"
          ]
        }
      ],
      "source": [
        "#print the multiplication table using for loop\n",
        "x=int(input(\"enter the number to display the corresponding multiplication:\"))\n",
        "for i in range(1,11) :\n",
        "  print(i, \"*\",x, \"=\", i*x)"
      ]
    },
    {
      "cell_type": "code",
      "source": [
        "#print the multiplication table using while loop\n",
        "x=int(input())\n",
        "i=1\n",
        "while(i<=10):\n",
        "  print(i, \"*\",x, \"=\", i*x)\n",
        "  i=i+1\n",
        "\n",
        "\n"
      ],
      "metadata": {
        "colab": {
          "base_uri": "https://localhost:8080/"
        },
        "id": "t7iFQ9laxF45",
        "outputId": "9f1fd6d1-19af-40e4-a099-586822859045"
      },
      "execution_count": 6,
      "outputs": [
        {
          "output_type": "stream",
          "name": "stdout",
          "text": [
            "5\n",
            "1 * 5 = 5\n",
            "2 * 5 = 10\n",
            "3 * 5 = 15\n",
            "4 * 5 = 20\n",
            "5 * 5 = 25\n",
            "6 * 5 = 30\n",
            "7 * 5 = 35\n",
            "8 * 5 = 40\n",
            "9 * 5 = 45\n",
            "10 * 5 = 50\n"
          ]
        }
      ]
    },
    {
      "cell_type": "code",
      "source": [
        "#count the number of digits in a number\n",
        "x=input(\"enter the number:\")\n",
        "d=0\n",
        "for i in x:\n",
        "  d=d+1\n",
        "print(d)"
      ],
      "metadata": {
        "colab": {
          "base_uri": "https://localhost:8080/"
        },
        "id": "ByikNHFp0aZP",
        "outputId": "bce303c3-7ba1-4edd-f0be-43e61add3e00"
      },
      "execution_count": 17,
      "outputs": [
        {
          "output_type": "stream",
          "name": "stdout",
          "text": [
            "enter the number:500\n",
            "3\n"
          ]
        }
      ]
    },
    {
      "cell_type": "code",
      "source": [
        "#case conversion program\n",
        "input=(\"enter a name\")\n",
        "if input.isupper():\n",
        "  print(input.lower())\n",
        "else:\n",
        "  print(input.upper())"
      ],
      "metadata": {
        "colab": {
          "base_uri": "https://localhost:8080/"
        },
        "id": "DjUftCHv1guM",
        "outputId": "9a1ecc0e-3c35-4749-be03-812003514488"
      },
      "execution_count": 36,
      "outputs": [
        {
          "output_type": "stream",
          "name": "stdout",
          "text": [
            "ENTER A NAME\n"
          ]
        }
      ]
    },
    {
      "cell_type": "code",
      "source": [
        "#print the number of alphabets in the username\n",
        "x=(\"Liya Ann George\")\n",
        "d=0\n",
        "for i in x:\n",
        "  d=d+1\n",
        "print(d)"
      ],
      "metadata": {
        "colab": {
          "base_uri": "https://localhost:8080/"
        },
        "id": "zH2foVVN7LgL",
        "outputId": "70b37636-24c1-41de-843b-f7058dba28ae"
      },
      "execution_count": 25,
      "outputs": [
        {
          "output_type": "stream",
          "name": "stdout",
          "text": [
            "15\n"
          ]
        }
      ]
    },
    {
      "cell_type": "code",
      "source": [
        "#replace a letter from a username \n",
        "x=(\"Liya Ann George\")\n",
        "x=x.replace(\"L\",\"K\")\n",
        "print(x)"
      ],
      "metadata": {
        "colab": {
          "base_uri": "https://localhost:8080/"
        },
        "id": "7LG0tqkF7sS5",
        "outputId": "28a86503-abe4-4db5-ac67-f2ea1c292418"
      },
      "execution_count": 27,
      "outputs": [
        {
          "output_type": "stream",
          "name": "stdout",
          "text": [
            "Kiya Ann George\n"
          ]
        }
      ]
    },
    {
      "cell_type": "code",
      "source": [],
      "metadata": {
        "id": "9eu7Wbkx-FMc"
      },
      "execution_count": null,
      "outputs": []
    }
  ]
}