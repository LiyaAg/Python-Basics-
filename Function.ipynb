{
  "nbformat": 4,
  "nbformat_minor": 0,
  "metadata": {
    "colab": {
      "provenance": [],
      "authorship_tag": "ABX9TyOZ0nOQoY1pKZfkRfaMX4Se",
      "include_colab_link": true
    },
    "kernelspec": {
      "name": "python3",
      "display_name": "Python 3"
    },
    "language_info": {
      "name": "python"
    }
  },
  "cells": [
    {
      "cell_type": "markdown",
      "metadata": {
        "id": "view-in-github",
        "colab_type": "text"
      },
      "source": [
        "<a href=\"https://colab.research.google.com/github/LiyaAg/Python-Basics-/blob/main/Function.ipynb\" target=\"_parent\"><img src=\"https://colab.research.google.com/assets/colab-badge.svg\" alt=\"Open In Colab\"/></a>"
      ]
    },
    {
      "cell_type": "code",
      "execution_count": 1,
      "metadata": {
        "id": "aDsPMeiLn4ng"
      },
      "outputs": [],
      "source": [
        "def liya():\n",
        "  print(\"Hope you are having a good day\")"
      ]
    },
    {
      "cell_type": "code",
      "source": [
        "liya()"
      ],
      "metadata": {
        "colab": {
          "base_uri": "https://localhost:8080/"
        },
        "id": "PqvZz5gSsFyl",
        "outputId": "895d835a-cc60-4e08-a883-0a8a5263f73d"
      },
      "execution_count": 2,
      "outputs": [
        {
          "output_type": "stream",
          "name": "stdout",
          "text": [
            "Hope you are having a good day\n"
          ]
        }
      ]
    },
    {
      "cell_type": "code",
      "source": [
        "def liya(x,y):\n",
        "  z=x+y\n",
        "  print(\"Result = \",z)"
      ],
      "metadata": {
        "id": "yUuWz7-XsdOU"
      },
      "execution_count": 3,
      "outputs": []
    },
    {
      "cell_type": "code",
      "source": [
        "liya(5,6)"
      ],
      "metadata": {
        "colab": {
          "base_uri": "https://localhost:8080/"
        },
        "id": "Y1QBOPRDuUkM",
        "outputId": "fa0587fb-7c17-422d-be8f-2488deabdd9f"
      },
      "execution_count": 4,
      "outputs": [
        {
          "output_type": "stream",
          "name": "stdout",
          "text": [
            "Result =  11\n"
          ]
        }
      ]
    },
    {
      "cell_type": "code",
      "source": [
        "def liya(x,y):\n",
        "  z=x-y\n",
        "  print(\"Result = \",z)"
      ],
      "metadata": {
        "id": "KV1t1dqYuZBo"
      },
      "execution_count": 5,
      "outputs": []
    },
    {
      "cell_type": "code",
      "source": [
        "liya(5,6)"
      ],
      "metadata": {
        "colab": {
          "base_uri": "https://localhost:8080/"
        },
        "id": "cU4EBJ-Suesp",
        "outputId": "5a039021-73ff-4eef-a195-012cfb93870e"
      },
      "execution_count": 6,
      "outputs": [
        {
          "output_type": "stream",
          "name": "stdout",
          "text": [
            "Result =  -1\n"
          ]
        }
      ]
    },
    {
      "cell_type": "code",
      "source": [
        "def liya(x,y):\n",
        "  z=x*y\n",
        "  print(\"Result = \",z)"
      ],
      "metadata": {
        "id": "NXeS2xcouhKX"
      },
      "execution_count": 7,
      "outputs": []
    },
    {
      "cell_type": "code",
      "source": [
        "liya(5,6)"
      ],
      "metadata": {
        "colab": {
          "base_uri": "https://localhost:8080/"
        },
        "id": "TQ0CCAASumaf",
        "outputId": "64753505-0ad6-4205-df54-9f890b0889ad"
      },
      "execution_count": 8,
      "outputs": [
        {
          "output_type": "stream",
          "name": "stdout",
          "text": [
            "Result =  30\n"
          ]
        }
      ]
    },
    {
      "cell_type": "code",
      "source": [
        "def liya(x,y):\n",
        "  z=x/y\n",
        "  print(\"Result = \",z)"
      ],
      "metadata": {
        "id": "1KmKX8u9uqL1"
      },
      "execution_count": 9,
      "outputs": []
    },
    {
      "cell_type": "code",
      "source": [
        "liya(5,6)"
      ],
      "metadata": {
        "colab": {
          "base_uri": "https://localhost:8080/"
        },
        "id": "x780nV0uuvSE",
        "outputId": "251ba6e4-e500-4a12-dc76-6bd5f06d7459"
      },
      "execution_count": 10,
      "outputs": [
        {
          "output_type": "stream",
          "name": "stdout",
          "text": [
            "Result =  0.8333333333333334\n"
          ]
        }
      ]
    },
    {
      "cell_type": "code",
      "source": [
        "x=int(input())"
      ],
      "metadata": {
        "colab": {
          "base_uri": "https://localhost:8080/"
        },
        "id": "lJj2ysynvvI0",
        "outputId": "e72c80eb-6baf-464d-e9df-2ab5b7222f02"
      },
      "execution_count": 13,
      "outputs": [
        {
          "name": "stdout",
          "output_type": "stream",
          "text": [
            "250000\n"
          ]
        }
      ]
    },
    {
      "cell_type": "code",
      "source": [
        "x=int(input())\n",
        "def liya(salary):\n",
        "  if salary>250000:\n",
        "     print(\" You are taxable\")\n",
        "  else:\n",
        "      print(\"You are not taxable\")\n",
        "    "
      ],
      "metadata": {
        "colab": {
          "base_uri": "https://localhost:8080/"
        },
        "id": "MMFBjRn3xDpX",
        "outputId": "23a712e5-1f7d-4876-dc47-e276f2b304c0"
      },
      "execution_count": 28,
      "outputs": [
        {
          "name": "stdout",
          "output_type": "stream",
          "text": [
            "300000\n"
          ]
        }
      ]
    },
    {
      "cell_type": "code",
      "source": [
        "liya(x)"
      ],
      "metadata": {
        "colab": {
          "base_uri": "https://localhost:8080/"
        },
        "id": "H3WpqyNTx1lD",
        "outputId": "9b2a2322-ccd5-4667-95b5-621ae117002c"
      },
      "execution_count": 30,
      "outputs": [
        {
          "output_type": "stream",
          "name": "stdout",
          "text": [
            " You are taxable\n"
          ]
        }
      ]
    },
    {
      "cell_type": "code",
      "source": [
        "x=int(input())\n"
      ],
      "metadata": {
        "colab": {
          "base_uri": "https://localhost:8080/"
        },
        "id": "i9U1jp8VyntP",
        "outputId": "9bcc82b7-03f3-423a-9981-e8c351b1f2ec"
      },
      "execution_count": 31,
      "outputs": [
        {
          "name": "stdout",
          "output_type": "stream",
          "text": [
            "100\n"
          ]
        }
      ]
    },
    {
      "cell_type": "code",
      "source": [
        "def alex(n):\n",
        "  k=0\n",
        "  for a in range(n):\n",
        "    k=k+a\n",
        "  print(k)"
      ],
      "metadata": {
        "id": "W2XQ2oBT6fRT"
      },
      "execution_count": 46,
      "outputs": []
    },
    {
      "cell_type": "code",
      "source": [
        "x=100\n",
        "alex(x)"
      ],
      "metadata": {
        "colab": {
          "base_uri": "https://localhost:8080/"
        },
        "id": "WfX931KU6-YP",
        "outputId": "5d862be6-5d5b-4d08-b71e-6a0cdea867d8"
      },
      "execution_count": 50,
      "outputs": [
        {
          "output_type": "stream",
          "name": "stdout",
          "text": [
            "4950\n"
          ]
        }
      ]
    },
    {
      "cell_type": "code",
      "source": [
        "def add(x,y):\n",
        "  print(x+y)\n",
        "def sub(x,y):\n",
        "  print(x-y)"
      ],
      "metadata": {
        "id": "Pgn2lS1Q8Zgg"
      },
      "execution_count": 56,
      "outputs": []
    },
    {
      "cell_type": "code",
      "source": [
        "x=int(input(\"Enter a number\"))\n",
        "y=int(input(\"Enter a number\"))\n",
        "add(x,y)\n",
        "sub(x,y)"
      ],
      "metadata": {
        "colab": {
          "base_uri": "https://localhost:8080/"
        },
        "id": "PDo7wdE99USd",
        "outputId": "d8d07829-37be-49c0-cb07-5aa7c9ab5506"
      },
      "execution_count": 63,
      "outputs": [
        {
          "output_type": "stream",
          "name": "stdout",
          "text": [
            "Enter a number10\n",
            "Enter a number20\n",
            "30\n",
            "-10\n"
          ]
        }
      ]
    },
    {
      "cell_type": "code",
      "source": [],
      "metadata": {
        "id": "tyRD66Su9pCX"
      },
      "execution_count": 63,
      "outputs": []
    }
  ]
}