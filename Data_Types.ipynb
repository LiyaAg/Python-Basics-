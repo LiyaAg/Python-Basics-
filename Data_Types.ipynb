{
  "nbformat": 4,
  "nbformat_minor": 0,
  "metadata": {
    "colab": {
      "provenance": [],
      "authorship_tag": "ABX9TyMsWtV2KeXXDxJAJrqH6KJm",
      "include_colab_link": true
    },
    "kernelspec": {
      "name": "python3",
      "display_name": "Python 3"
    },
    "language_info": {
      "name": "python"
    }
  },
  "cells": [
    {
      "cell_type": "markdown",
      "metadata": {
        "id": "view-in-github",
        "colab_type": "text"
      },
      "source": [
        "<a href=\"https://colab.research.google.com/github/LiyaAg/Python-Basics-/blob/main/Data_Types.ipynb\" target=\"_parent\"><img src=\"https://colab.research.google.com/assets/colab-badge.svg\" alt=\"Open In Colab\"/></a>"
      ]
    },
    {
      "cell_type": "code",
      "execution_count": 1,
      "metadata": {
        "colab": {
          "base_uri": "https://localhost:8080/"
        },
        "id": "UvVzLcW01E6g",
        "outputId": "88c0c290-ac9a-450d-e095-cc26979152e1"
      },
      "outputs": [
        {
          "name": "stdout",
          "output_type": "stream",
          "text": [
            "15\n"
          ]
        }
      ],
      "source": [
        "number=int(input())"
      ]
    },
    {
      "cell_type": "code",
      "source": [
        "type(number)"
      ],
      "metadata": {
        "colab": {
          "base_uri": "https://localhost:8080/"
        },
        "id": "hZXSrSu32v6j",
        "outputId": "e3cb7418-d9bd-4c3c-ffbc-3463741f1e46"
      },
      "execution_count": 3,
      "outputs": [
        {
          "output_type": "execute_result",
          "data": {
            "text/plain": [
              "int"
            ]
          },
          "metadata": {},
          "execution_count": 3
        }
      ]
    },
    {
      "cell_type": "code",
      "source": [
        "x=10.5\n",
        "type(x)"
      ],
      "metadata": {
        "colab": {
          "base_uri": "https://localhost:8080/"
        },
        "id": "3hGzd5gK2-2x",
        "outputId": "65c36947-f098-4276-9c19-94b75c016ba7"
      },
      "execution_count": 6,
      "outputs": [
        {
          "output_type": "execute_result",
          "data": {
            "text/plain": [
              "float"
            ]
          },
          "metadata": {},
          "execution_count": 6
        }
      ]
    },
    {
      "cell_type": "code",
      "source": [
        "x=int(input())\n",
        "y=10.5\n",
        "print(x+y)\n"
      ],
      "metadata": {
        "colab": {
          "base_uri": "https://localhost:8080/"
        },
        "id": "laZ2BP1_3QWJ",
        "outputId": "3b779c1d-5d8c-4b2c-953f-9b3e66a62085"
      },
      "execution_count": 8,
      "outputs": [
        {
          "output_type": "stream",
          "name": "stdout",
          "text": [
            "10\n",
            "20.5\n"
          ]
        }
      ]
    },
    {
      "cell_type": "code",
      "source": [
        "type(x+y)"
      ],
      "metadata": {
        "colab": {
          "base_uri": "https://localhost:8080/"
        },
        "id": "1VOWn6Fe3jG4",
        "outputId": "dfeb6c3f-b616-4fb2-f6e8-0e72a28e4e5a"
      },
      "execution_count": 9,
      "outputs": [
        {
          "output_type": "execute_result",
          "data": {
            "text/plain": [
              "float"
            ]
          },
          "metadata": {},
          "execution_count": 9
        }
      ]
    },
    {
      "cell_type": "code",
      "source": [
        "#complex number\n",
        "c= 10+5j\n"
      ],
      "metadata": {
        "id": "_c5wrmj13qUA"
      },
      "execution_count": 13,
      "outputs": []
    },
    {
      "cell_type": "code",
      "source": [
        "type(c)"
      ],
      "metadata": {
        "colab": {
          "base_uri": "https://localhost:8080/"
        },
        "id": "dmPumYQR4H4X",
        "outputId": "af60a2ba-7bec-42b5-b65f-53838bd35c5e"
      },
      "execution_count": 15,
      "outputs": [
        {
          "output_type": "execute_result",
          "data": {
            "text/plain": [
              "complex"
            ]
          },
          "metadata": {},
          "execution_count": 15
        }
      ]
    },
    {
      "cell_type": "code",
      "source": [
        "x=\"Liya Ann George\""
      ],
      "metadata": {
        "id": "3iyxdorh4RTY"
      },
      "execution_count": 16,
      "outputs": []
    },
    {
      "cell_type": "code",
      "source": [
        "type(x)"
      ],
      "metadata": {
        "colab": {
          "base_uri": "https://localhost:8080/"
        },
        "id": "9p6yPOIB4Xxo",
        "outputId": "6e2e26ec-5749-4c3f-fd21-5ea76470c571"
      },
      "execution_count": 17,
      "outputs": [
        {
          "output_type": "execute_result",
          "data": {
            "text/plain": [
              "str"
            ]
          },
          "metadata": {},
          "execution_count": 17
        }
      ]
    },
    {
      "cell_type": "code",
      "source": [
        "message=(\"I am a student of Rajagiri\")"
      ],
      "metadata": {
        "id": "ig9gMfVi4azQ"
      },
      "execution_count": 18,
      "outputs": []
    },
    {
      "cell_type": "code",
      "source": [
        "type(message)"
      ],
      "metadata": {
        "colab": {
          "base_uri": "https://localhost:8080/"
        },
        "id": "Vavz0Rlz4hd0",
        "outputId": "ead5ab88-33da-4247-fd0d-228e9a836bc4"
      },
      "execution_count": 19,
      "outputs": [
        {
          "output_type": "execute_result",
          "data": {
            "text/plain": [
              "str"
            ]
          },
          "metadata": {},
          "execution_count": 19
        }
      ]
    },
    {
      "cell_type": "code",
      "source": [
        "#List\n",
        "Friends=[\"Vaisnavi\",\"Meryl\",\"Annlitta\",\"Varsha\",\"Ihasaniya\"]"
      ],
      "metadata": {
        "id": "qOsKNGYE4j0T"
      },
      "execution_count": 20,
      "outputs": []
    },
    {
      "cell_type": "code",
      "source": [
        "type(Friends)"
      ],
      "metadata": {
        "colab": {
          "base_uri": "https://localhost:8080/"
        },
        "id": "Psa1BwBy5GL_",
        "outputId": "322418d1-37e9-4964-a7b3-5d6d0999c840"
      },
      "execution_count": 22,
      "outputs": [
        {
          "output_type": "execute_result",
          "data": {
            "text/plain": [
              "list"
            ]
          },
          "metadata": {},
          "execution_count": 22
        }
      ]
    },
    {
      "cell_type": "code",
      "source": [
        "#tuple\n",
        "Friends=(\"Vaishnavi\",\"Meryl\",\"Annlitta\",\"Varsha\",\"Ihasaniya\")\n"
      ],
      "metadata": {
        "id": "tKPtQl9l5M2X"
      },
      "execution_count": 30,
      "outputs": []
    },
    {
      "cell_type": "code",
      "source": [
        "type(Friends)"
      ],
      "metadata": {
        "colab": {
          "base_uri": "https://localhost:8080/"
        },
        "id": "VN6NhtJY6B7E",
        "outputId": "f7ea921d-eef4-4060-a4d0-5d785f4ccbf8"
      },
      "execution_count": 24,
      "outputs": [
        {
          "output_type": "execute_result",
          "data": {
            "text/plain": [
              "tuple"
            ]
          },
          "metadata": {},
          "execution_count": 24
        }
      ]
    },
    {
      "cell_type": "code",
      "source": [
        "Friends=[\"Vaishnavi\",\"Meryl\",\"Annlitta\",\"Varsha\",\"Ihasaniya\"]\n",
        "Friends[4]"
      ],
      "metadata": {
        "colab": {
          "base_uri": "https://localhost:8080/",
          "height": 35
        },
        "id": "0rwinYeO6EzL",
        "outputId": "7b77c063-bfad-4c8d-def7-7d153901b44c"
      },
      "execution_count": 31,
      "outputs": [
        {
          "output_type": "execute_result",
          "data": {
            "text/plain": [
              "'Ihasaniya'"
            ],
            "application/vnd.google.colaboratory.intrinsic+json": {
              "type": "string"
            }
          },
          "metadata": {},
          "execution_count": 31
        }
      ]
    },
    {
      "cell_type": "code",
      "source": [
        "Friends=[\"Vaishnavi\",\"Meryl\",\"Annlitta\",\"Varsha\",\"Ihasaniya\"]\n",
        "Friends[0]"
      ],
      "metadata": {
        "colab": {
          "base_uri": "https://localhost:8080/",
          "height": 35
        },
        "id": "7knpAAuV6Vde",
        "outputId": "5e2f2bb1-d861-46c1-cdbf-062fdf1206c6"
      },
      "execution_count": 32,
      "outputs": [
        {
          "output_type": "execute_result",
          "data": {
            "text/plain": [
              "'Vaishnavi'"
            ],
            "application/vnd.google.colaboratory.intrinsic+json": {
              "type": "string"
            }
          },
          "metadata": {},
          "execution_count": 32
        }
      ]
    },
    {
      "cell_type": "code",
      "source": [
        "Friends=[\"Vaishnavi\",\"Meryl\",\"Annlitta\",\"Varsha\",\"Ihasaniya\"]\n",
        "Friends[2]"
      ],
      "metadata": {
        "colab": {
          "base_uri": "https://localhost:8080/",
          "height": 35
        },
        "id": "UdTK3h7C6tS_",
        "outputId": "84d43a8c-25be-495b-ab77-742d47ae8988"
      },
      "execution_count": 33,
      "outputs": [
        {
          "output_type": "execute_result",
          "data": {
            "text/plain": [
              "'Annlitta'"
            ],
            "application/vnd.google.colaboratory.intrinsic+json": {
              "type": "string"
            }
          },
          "metadata": {},
          "execution_count": 33
        }
      ]
    },
    {
      "cell_type": "code",
      "source": [
        "Friends=[\"Namita\",\"Miriam\",\"Pavithra\",\"Niha\",\"Ann Rose\"]\n",
        "Friends.pop()\n",
        "print(Friends)"
      ],
      "metadata": {
        "colab": {
          "base_uri": "https://localhost:8080/"
        },
        "id": "xUVXB4FO62y3",
        "outputId": "444b9316-a77f-4ff9-81bf-6b1335d048df"
      },
      "execution_count": 38,
      "outputs": [
        {
          "output_type": "stream",
          "name": "stdout",
          "text": [
            "['Namita', 'Miriam', 'Pavithra', 'Niha']\n"
          ]
        }
      ]
    },
    {
      "cell_type": "code",
      "source": [
        "Friends=[\"Namita\",\"Miriam\",\"Pavithra\",\"Niha\",\"Ann Rose\"]\n",
        "Friends.pop(1)\n",
        "print(Friends)"
      ],
      "metadata": {
        "colab": {
          "base_uri": "https://localhost:8080/"
        },
        "id": "0sElEs0_8Fc_",
        "outputId": "8662298e-feae-42bf-8f4c-ac70a001504d"
      },
      "execution_count": 40,
      "outputs": [
        {
          "output_type": "stream",
          "name": "stdout",
          "text": [
            "['Namita', 'Pavithra', 'Niha', 'Ann Rose']\n"
          ]
        }
      ]
    },
    {
      "cell_type": "code",
      "source": [
        "Friends=[\"Namita\",\"Miriam\",\"Pavithra\",\"Niha\",\"Ann Rose\"]\n",
        "Friends.append(\"Michelle\")\n",
        "print(Friends)"
      ],
      "metadata": {
        "colab": {
          "base_uri": "https://localhost:8080/"
        },
        "id": "IM5PZrrt8kIm",
        "outputId": "131220f0-a4c7-4543-89bc-236b116dd99b"
      },
      "execution_count": 42,
      "outputs": [
        {
          "output_type": "stream",
          "name": "stdout",
          "text": [
            "['Namita', 'Miriam', 'Pavithra', 'Niha', 'Ann Rose', 'Michelle']\n"
          ]
        }
      ]
    },
    {
      "cell_type": "code",
      "source": [
        "Friends=[\"Namita\",\"Miriam\",\"Pavithra\",\"Niha\",\"Ann Rose\"]\n",
        "Friends.sort()\n",
        "print(Friends)"
      ],
      "metadata": {
        "colab": {
          "base_uri": "https://localhost:8080/"
        },
        "id": "ckk81pi5-O-E",
        "outputId": "6c2b0ac9-ce17-463f-df5e-7277675571df"
      },
      "execution_count": 43,
      "outputs": [
        {
          "output_type": "stream",
          "name": "stdout",
          "text": [
            "['Ann Rose', 'Miriam', 'Namita', 'Niha', 'Pavithra']\n"
          ]
        }
      ]
    },
    {
      "cell_type": "code",
      "source": [
        "Friends=[\"Namita\",\"Miriam\",\"Pavithra\",\"Niha\",\"Ann Rose\"]\n",
        "Friends.reverse()\n",
        "print(Friends)"
      ],
      "metadata": {
        "colab": {
          "base_uri": "https://localhost:8080/"
        },
        "id": "epNqSD3V_AaH",
        "outputId": "a432cfd8-d16f-4814-cf81-3c9384d9e893"
      },
      "execution_count": 44,
      "outputs": [
        {
          "output_type": "stream",
          "name": "stdout",
          "text": [
            "['Ann Rose', 'Niha', 'Pavithra', 'Miriam', 'Namita']\n"
          ]
        }
      ]
    },
    {
      "cell_type": "code",
      "source": [
        "Friends=[\"Namita\",\"Miriam\",\"Pavithra\",\"Niha\",\"Ann Rose\"]\n",
        "Friends.insert(2,\"Thomas\")\n",
        "print(Friends)"
      ],
      "metadata": {
        "colab": {
          "base_uri": "https://localhost:8080/"
        },
        "id": "N29F6IcI_XIv",
        "outputId": "aba59f94-6b9a-41dd-9622-eed587d00237"
      },
      "execution_count": 45,
      "outputs": [
        {
          "output_type": "stream",
          "name": "stdout",
          "text": [
            "['Namita', 'Miriam', 'Thomas', 'Pavithra', 'Niha', 'Ann Rose']\n"
          ]
        }
      ]
    },
    {
      "cell_type": "code",
      "source": [
        "Friends1=[\"Vaishnavi\",\"Meryl\",\"Annlitta\",\"Varsha\",\"Ihasaniya\"]\n",
        "Friends2=[\"Namita\",\"Miriam\",\"Pavithra\",\"Niha\",\"Ann Rose\"]\n",
        "All=(Friends1+Friends2)\n",
        "print(Friends1+Friends2)"
      ],
      "metadata": {
        "colab": {
          "base_uri": "https://localhost:8080/"
        },
        "id": "Xehve3KJAzge",
        "outputId": "d7c8efb9-ebbf-4832-f223-dbce95a04152"
      },
      "execution_count": 50,
      "outputs": [
        {
          "output_type": "stream",
          "name": "stdout",
          "text": [
            "['Vaishnavi', 'Meryl', 'Annlitta', 'Varsha', 'Ihasaniya', 'Namita', 'Miriam', 'Pavithra', 'Niha', 'Ann Rose']\n"
          ]
        }
      ]
    },
    {
      "cell_type": "code",
      "source": [
        "Friends=[\"Liya\",\"Namita\"]\n",
        "Friends[0]=\"Tim\"\n",
        "print(Friends)"
      ],
      "metadata": {
        "colab": {
          "base_uri": "https://localhost:8080/"
        },
        "id": "UaZS-jgaCIJ_",
        "outputId": "24cd845c-a42c-4561-992b-7ebc99899db6"
      },
      "execution_count": 86,
      "outputs": [
        {
          "output_type": "stream",
          "name": "stdout",
          "text": [
            "['Tim', 'Namita']\n"
          ]
        }
      ]
    },
    {
      "cell_type": "code",
      "source": [
        "Marks=[10,20,20,30,40]\n",
        "a=set(Marks)\n",
        "print(a)"
      ],
      "metadata": {
        "colab": {
          "base_uri": "https://localhost:8080/"
        },
        "id": "IjmjSzlOFDBn",
        "outputId": "1e164728-791d-4ac7-864e-7978977c9754"
      },
      "execution_count": 67,
      "outputs": [
        {
          "output_type": "stream",
          "name": "stdout",
          "text": [
            "{40, 10, 20, 30}\n"
          ]
        }
      ]
    },
    {
      "cell_type": "code",
      "source": [
        "#Dictionary\n",
        "dict={'Name':'Liya Ann George','Phone Number':'100','Place':'Ernakulam'}\n",
        "dict['Year of Birth'] = 2004\n",
        "print(dict)"
      ],
      "metadata": {
        "colab": {
          "base_uri": "https://localhost:8080/"
        },
        "id": "gMcfgxEyHUlF",
        "outputId": "ae7fd197-936c-4205-e5ce-00f2ce9a38be"
      },
      "execution_count": 76,
      "outputs": [
        {
          "output_type": "stream",
          "name": "stdout",
          "text": [
            "{'Name': 'Liya Ann George', 'Phone Number': '100', 'Place': 'Ernakulam', 'Year of Birth': 2004}\n"
          ]
        }
      ]
    },
    {
      "cell_type": "code",
      "source": [
        "#if you want to replace\n",
        "dict={'Name':'Liya Ann George','Phone Number':'100','Place':'Ernakulam'}\n",
        "dict['Name'] =\"Liya\"\n",
        "print(dict)"
      ],
      "metadata": {
        "colab": {
          "base_uri": "https://localhost:8080/"
        },
        "id": "zykAJvLdKshd",
        "outputId": "060a079a-bef0-4b15-b7eb-509b2fb48f13"
      },
      "execution_count": 80,
      "outputs": [
        {
          "output_type": "stream",
          "name": "stdout",
          "text": [
            "{'Name': 'Liya', 'Phone Number': '100', 'Place': 'Ernakulam'}\n"
          ]
        }
      ]
    },
    {
      "cell_type": "code",
      "source": [
        "def add(x,y):\n",
        "  return(x+y)\n",
        "add(2,3)\n"
      ],
      "metadata": {
        "colab": {
          "base_uri": "https://localhost:8080/"
        },
        "id": "6Rnlz_qAKz4c",
        "outputId": "e79ad6c5-44d8-43b8-b444-4f9fee3fc8de"
      },
      "execution_count": 83,
      "outputs": [
        {
          "output_type": "execute_result",
          "data": {
            "text/plain": [
              "5"
            ]
          },
          "metadata": {},
          "execution_count": 83
        }
      ]
    },
    {
      "cell_type": "code",
      "source": [
        "def product(x,y,z):\n",
        "  return(x*y*z)\n",
        "product(1,2,3)"
      ],
      "metadata": {
        "colab": {
          "base_uri": "https://localhost:8080/"
        },
        "id": "4WD5hCZeL10o",
        "outputId": "26c80d18-a642-4a4b-bed7-63e2d3f66a35"
      },
      "execution_count": 84,
      "outputs": [
        {
          "output_type": "execute_result",
          "data": {
            "text/plain": [
              "6"
            ]
          },
          "metadata": {},
          "execution_count": 84
        }
      ]
    },
    {
      "cell_type": "code",
      "source": [],
      "metadata": {
        "id": "RxecRqxRMQJv"
      },
      "execution_count": null,
      "outputs": []
    }
  ]
}