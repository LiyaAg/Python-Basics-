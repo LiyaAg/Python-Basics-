{
  "nbformat": 4,
  "nbformat_minor": 0,
  "metadata": {
    "colab": {
      "provenance": [],
      "collapsed_sections": [],
      "authorship_tag": "ABX9TyMimciAAuUbsDa8iuwkXOVc",
      "include_colab_link": true
    },
    "kernelspec": {
      "name": "python3",
      "display_name": "Python 3"
    },
    "language_info": {
      "name": "python"
    }
  },
  "cells": [
    {
      "cell_type": "markdown",
      "metadata": {
        "id": "view-in-github",
        "colab_type": "text"
      },
      "source": [
        "<a href=\"https://colab.research.google.com/github/LiyaAg/Python-Basics-/blob/main/Salary_Basics.ipynb\" target=\"_parent\"><img src=\"https://colab.research.google.com/assets/colab-badge.svg\" alt=\"Open In Colab\"/></a>"
      ]
    },
    {
      "cell_type": "code",
      "source": [
        "mark=int(input())"
      ],
      "metadata": {
        "colab": {
          "base_uri": "https://localhost:8080/"
        },
        "id": "9p2wpGXSgyv5",
        "outputId": "d714ea85-30a8-4b41-cc4d-745b7ca78cc3"
      },
      "execution_count": null,
      "outputs": [
        {
          "name": "stdout",
          "output_type": "stream",
          "text": [
            "50\n"
          ]
        }
      ]
    },
    {
      "cell_type": "code",
      "source": [
        "if mark >50 :\n",
        "  print(\"You have passed\")\n",
        "\n",
        "if mark <50 :\n",
        "  print(\"You have failed\")\n",
        "\n"
      ],
      "metadata": {
        "id": "24gg_LPRhrXU"
      },
      "execution_count": null,
      "outputs": []
    },
    {
      "cell_type": "code",
      "source": [
        "mark=int(input())"
      ],
      "metadata": {
        "colab": {
          "base_uri": "https://localhost:8080/"
        },
        "id": "Rmh5ItbYiXGi",
        "outputId": "dcd34784-effe-4878-9d90-84395413ffb3"
      },
      "execution_count": null,
      "outputs": [
        {
          "name": "stdout",
          "output_type": "stream",
          "text": [
            "50\n"
          ]
        }
      ]
    },
    {
      "cell_type": "code",
      "source": [
        "if mark ==50 :\n",
        "  print(\"Just Passed\")"
      ],
      "metadata": {
        "colab": {
          "base_uri": "https://localhost:8080/"
        },
        "id": "V_6AqEU0jMy1",
        "outputId": "8c6e259f-3b82-48c2-d34d-985530cb28be"
      },
      "execution_count": null,
      "outputs": [
        {
          "output_type": "stream",
          "name": "stdout",
          "text": [
            "Just Passed\n"
          ]
        }
      ]
    },
    {
      "cell_type": "code",
      "source": [
        "salary=int(input())"
      ],
      "metadata": {
        "colab": {
          "base_uri": "https://localhost:8080/"
        },
        "id": "nRVLBnrXjmZN",
        "outputId": "ef6198d6-d019-4be5-ab0a-dfce77fa92b6"
      },
      "execution_count": null,
      "outputs": [
        {
          "name": "stdout",
          "output_type": "stream",
          "text": [
            "250000\n"
          ]
        }
      ]
    },
    {
      "cell_type": "code",
      "source": [
        "if salary>=250000 :\n",
        "  print(\"You are taxable\")"
      ],
      "metadata": {
        "colab": {
          "base_uri": "https://localhost:8080/"
        },
        "id": "YDSvSzCrk1TT",
        "outputId": "a3edc9d5-ab90-4830-fa34-9870fa56cbef"
      },
      "execution_count": null,
      "outputs": [
        {
          "output_type": "stream",
          "name": "stdout",
          "text": [
            "You are taxable\n"
          ]
        }
      ]
    },
    {
      "cell_type": "code",
      "source": [
        "if salary<250000 :\n",
        "  print(\"You are not taxable\")"
      ],
      "metadata": {
        "id": "jhX5BQrvlPzE"
      },
      "execution_count": null,
      "outputs": []
    },
    {
      "cell_type": "code",
      "source": [
        "salary=int(input())"
      ],
      "metadata": {
        "colab": {
          "base_uri": "https://localhost:8080/"
        },
        "id": "g2c_w_J7l0qn",
        "outputId": "9533c6d4-cdb5-4670-a9a0-43157c430b1b"
      },
      "execution_count": null,
      "outputs": [
        {
          "name": "stdout",
          "output_type": "stream",
          "text": [
            "250000\n"
          ]
        }
      ]
    },
    {
      "cell_type": "code",
      "source": [
        "salary=int(input())\n",
        "if salary>= 250000:\n",
        "  print(\"You are taxable\")\n",
        "  print(salary*10/100)\n",
        "  print((salary-250000)*(10/100))\n",
        "if salary< 250000 :\n",
        "  print(\"You are not taxable\")"
      ],
      "metadata": {
        "colab": {
          "base_uri": "https://localhost:8080/"
        },
        "id": "S02jdBxWoZdJ",
        "outputId": "3482bf57-58f4-4850-9159-3134c0320936"
      },
      "execution_count": null,
      "outputs": [
        {
          "output_type": "stream",
          "name": "stdout",
          "text": [
            "500000\n",
            "You are taxable\n",
            "50000.0\n",
            "25000.0\n"
          ]
        }
      ]
    },
    {
      "cell_type": "code",
      "source": [
        "salary=int(input())\n",
        "if 250000<salary< 500000:\n",
        "  print(\"You are taxable\")\n",
        "  print(salary*10/100)\n",
        "  print((salary-250000)*(10/100))\n",
        "if salary< 250000 :\n",
        "  print(\"You are not taxable\")"
      ],
      "metadata": {
        "colab": {
          "base_uri": "https://localhost:8080/"
        },
        "id": "aNe0OyqY0LXt",
        "outputId": "6df0dc1f-f134-4520-fe33-bf62c9dd855e"
      },
      "execution_count": null,
      "outputs": [
        {
          "output_type": "stream",
          "name": "stdout",
          "text": [
            "300000\n",
            "You are taxable\n",
            "30000.0\n",
            "5000.0\n"
          ]
        }
      ]
    },
    {
      "cell_type": "code",
      "source": [],
      "metadata": {
        "id": "TXKjvgUw2o9j"
      },
      "execution_count": null,
      "outputs": []
    }
  ]
}