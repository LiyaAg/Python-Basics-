{
  "nbformat": 4,
  "nbformat_minor": 0,
  "metadata": {
    "colab": {
      "provenance": [],
      "include_colab_link": true
    },
    "kernelspec": {
      "name": "python3",
      "display_name": "Python 3"
    },
    "language_info": {
      "name": "python"
    }
  },
  "cells": [
    {
      "cell_type": "markdown",
      "metadata": {
        "id": "view-in-github",
        "colab_type": "text"
      },
      "source": [
        "<a href=\"https://colab.research.google.com/github/LiyaAg/Python-Basics-/blob/main/Salary_%26_Interest.ipynb\" target=\"_parent\"><img src=\"https://colab.research.google.com/assets/colab-badge.svg\" alt=\"Open In Colab\"/></a>"
      ]
    },
    {
      "cell_type": "code",
      "execution_count": null,
      "metadata": {
        "colab": {
          "base_uri": "https://localhost:8080/",
          "height": 130
        },
        "id": "2-t824bRqBVW",
        "outputId": "96a91702-ff04-49f3-a283-84a64f1d2631"
      },
      "outputs": [
        {
          "output_type": "error",
          "ename": "SyntaxError",
          "evalue": "ignored",
          "traceback": [
            "\u001b[0;36m  File \u001b[0;32m\"<ipython-input-7-a755c7b53037>\"\u001b[0;36m, line \u001b[0;32m4\u001b[0m\n\u001b[0;31m    if salary >250000 salary <500000:\u001b[0m\n\u001b[0m                           ^\u001b[0m\n\u001b[0;31mSyntaxError\u001b[0m\u001b[0;31m:\u001b[0m invalid syntax\n"
          ]
        }
      ],
      "source": [
        "salary=int(input())\n",
        "if salary <250000:\n",
        "  print(\"no tax\") \n",
        "if salary >250000 salary <500000: \n",
        "  print((salary-250000)*10/100)\n",
        "if 500000 <salary <750000: \n",
        "  print((salary-500000)*20/100)\n",
        "if salary >750000:\n",
        "  print((salary-750000)*30/100)"
      ]
    },
    {
      "cell_type": "code",
      "source": [
        "salary=int(input())\n",
        "if salary <250000:\n",
        "  print(\"no tax\") \n",
        "if 250000 <salary <500000: \n",
        "  print((salary-250000)*10/100)\n",
        "if 500000 <salary <750000: \n",
        "  print((salary-500000)*20/100)+((500000-250000)*10/100)\n",
        "if salary >750000:\n",
        "  print((salary-750000)*30/100+(750000-500000)*20/100+(500000-250000)*10/100)\n",
        "if salary>100000000:\n",
        "  print((salary-750000)*30/100+(750000-500000)*20/100+(500000-250000)*10/100+(salary-100000000)*2/100)"
      ],
      "metadata": {
        "colab": {
          "base_uri": "https://localhost:8080/"
        },
        "id": "a653gyvUqPW8",
        "outputId": "1bf6624d-95a8-4af9-b17d-3215086e5efc"
      },
      "execution_count": null,
      "outputs": [
        {
          "output_type": "stream",
          "name": "stdout",
          "text": [
            "200000000\n",
            "59850000.0\n",
            "61850000.0\n"
          ]
        }
      ]
    },
    {
      "cell_type": "code",
      "source": [],
      "metadata": {
        "id": "FM-TfGWV4uWW"
      },
      "execution_count": null,
      "outputs": []
    }
  ]
}