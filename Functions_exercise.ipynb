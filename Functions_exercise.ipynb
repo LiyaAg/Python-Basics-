{
  "nbformat": 4,
  "nbformat_minor": 0,
  "metadata": {
    "colab": {
      "provenance": [],
      "authorship_tag": "ABX9TyNMBF8/5u+WU+U+0biRJ6Lr",
      "include_colab_link": true
    },
    "kernelspec": {
      "name": "python3",
      "display_name": "Python 3"
    },
    "language_info": {
      "name": "python"
    }
  },
  "cells": [
    {
      "cell_type": "markdown",
      "metadata": {
        "id": "view-in-github",
        "colab_type": "text"
      },
      "source": [
        "<a href=\"https://colab.research.google.com/github/LiyaAg/Python-Basics-/blob/main/Functions_exercise.ipynb\" target=\"_parent\"><img src=\"https://colab.research.google.com/assets/colab-badge.svg\" alt=\"Open In Colab\"/></a>"
      ]
    },
    {
      "cell_type": "code",
      "execution_count": 3,
      "metadata": {
        "colab": {
          "base_uri": "https://localhost:8080/"
        },
        "id": "DRQR7hxljyyW",
        "outputId": "35f5053f-09bf-4aa7-8e10-37bbf76adeab"
      },
      "outputs": [
        {
          "output_type": "stream",
          "name": "stdout",
          "text": [
            "Fifa World Cup\n"
          ]
        }
      ],
      "source": [
        "#function with no arguments \n",
        "def fun_name():\n",
        "  print(\"Fifa World Cup\")\n",
        "fun_name()"
      ]
    },
    {
      "cell_type": "code",
      "source": [
        "#function with three arguments \n",
        "def name(x,y,z):\n",
        "    print(x,y,z)\n",
        "name(\"Liya\",\"Ann\",\"George\")\n",
        "\n"
      ],
      "metadata": {
        "colab": {
          "base_uri": "https://localhost:8080/"
        },
        "id": "InPRdtFyyp_q",
        "outputId": "408d1c80-0a75-434d-8e3d-6e4f03888910"
      },
      "execution_count": 16,
      "outputs": [
        {
          "output_type": "stream",
          "name": "stdout",
          "text": [
            "Liya Ann George\n"
          ]
        }
      ]
    },
    {
      "cell_type": "code",
      "source": [
        "def name(x,y,z):\n",
        "    print(z,x,y)\n",
        "name(\"Liya\",\"Ann\",\"George\")"
      ],
      "metadata": {
        "colab": {
          "base_uri": "https://localhost:8080/"
        },
        "id": "_W74Pggry32q",
        "outputId": "939e8ae1-f43c-44ae-bf51-bcda20d8b976"
      },
      "execution_count": 20,
      "outputs": [
        {
          "output_type": "stream",
          "name": "stdout",
          "text": [
            "George Liya Ann\n"
          ]
        }
      ]
    },
    {
      "cell_type": "code",
      "source": [
        "#default argument country as “Mexico” and display it.\n",
        "def liya(country=\"Mexico\"):\n",
        "  print(\"I support \"+country)\n",
        "liya(\"Argentina\")\n",
        "liya(\"Brazil\")\n",
        "liya()"
      ],
      "metadata": {
        "colab": {
          "base_uri": "https://localhost:8080/"
        },
        "id": "dN0HaLX00fwg",
        "outputId": "4bfa22d7-3a8b-4224-da47-3ae16f24b3e2"
      },
      "execution_count": 27,
      "outputs": [
        {
          "output_type": "stream",
          "name": "stdout",
          "text": [
            "I support Argentina\n",
            "I support Brazil\n",
            "I support Mexico\n"
          ]
        }
      ]
    },
    {
      "cell_type": "code",
      "source": [
        "def fun_names(*x):\n",
        "  print('the second favorite football player: ',x[1])\n",
        "\n",
        "fun_names('Messi','Ronaldo','Neymar')"
      ],
      "metadata": {
        "colab": {
          "base_uri": "https://localhost:8080/"
        },
        "id": "_Fz2NByP1sUI",
        "outputId": "b9aafe36-2321-4be7-97cd-74294183cef9"
      },
      "execution_count": 26,
      "outputs": [
        {
          "output_type": "stream",
          "name": "stdout",
          "text": [
            "the second favorite football player:  Ronaldo\n"
          ]
        }
      ]
    },
    {
      "cell_type": "code",
      "source": [
        "def liya(x):\n",
        "  for i in x:\n",
        "    print(i)\n",
        "\n",
        "K=[\"Argentina\",\"Brazil\",\"Portugal\"]\n",
        "liya(K)"
      ],
      "metadata": {
        "colab": {
          "base_uri": "https://localhost:8080/"
        },
        "id": "3tGz73092rER",
        "outputId": "1e7119e0-9183-493c-d982-809b830f6810"
      },
      "execution_count": 30,
      "outputs": [
        {
          "output_type": "stream",
          "name": "stdout",
          "text": [
            "Argentina\n",
            "Brazil\n",
            "Portugal\n"
          ]
        }
      ]
    },
    {
      "cell_type": "code",
      "source": [
        "def fact(n):\n",
        "  if n<=1:\n",
        "    return n\n",
        "  else:\n",
        "      return(fact(n-1) * n)\n",
        "print(fact(10))"
      ],
      "metadata": {
        "colab": {
          "base_uri": "https://localhost:8080/"
        },
        "id": "u9NieiIU4aXP",
        "outputId": "dd72bb6f-10ce-4448-f9de-03645f8625f9"
      },
      "execution_count": 31,
      "outputs": [
        {
          "output_type": "stream",
          "name": "stdout",
          "text": [
            "3628800\n"
          ]
        }
      ]
    },
    {
      "cell_type": "code",
      "source": [],
      "metadata": {
        "id": "X3uG650x8xnc"
      },
      "execution_count": null,
      "outputs": []
    }
  ]
}