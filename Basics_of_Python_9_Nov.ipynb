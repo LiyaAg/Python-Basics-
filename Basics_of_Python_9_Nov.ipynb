{
  "nbformat": 4,
  "nbformat_minor": 0,
  "metadata": {
    "colab": {
      "provenance": [],
      "collapsed_sections": [],
      "authorship_tag": "ABX9TyPIA/9jCFei203Nn+byvT9y",
      "include_colab_link": true
    },
    "kernelspec": {
      "name": "python3",
      "display_name": "Python 3"
    },
    "language_info": {
      "name": "python"
    }
  },
  "cells": [
    {
      "cell_type": "markdown",
      "metadata": {
        "id": "view-in-github",
        "colab_type": "text"
      },
      "source": [
        "<a href=\"https://colab.research.google.com/github/LiyaAg/Python-Basics-/blob/main/Basics_of_Python_9_Nov.ipynb\" target=\"_parent\"><img src=\"https://colab.research.google.com/assets/colab-badge.svg\" alt=\"Open In Colab\"/></a>"
      ]
    },
    {
      "cell_type": "code",
      "source": [
        "name=input(\"enter the name\")\n",
        "print(name)"
      ],
      "metadata": {
        "colab": {
          "base_uri": "https://localhost:8080/"
        },
        "id": "d3JjHeVIiRwy",
        "outputId": "2164b996-c290-41dc-abb6-c35e7dc05169"
      },
      "execution_count": 2,
      "outputs": [
        {
          "output_type": "stream",
          "name": "stdout",
          "text": [
            "enter the nameLiya\n",
            "Liya\n"
          ]
        }
      ]
    },
    {
      "cell_type": "code",
      "source": [
        "x=int(input(\"enter the mark of first subject\"))\n",
        "y=int(input(\"enter the mark of second subject\"))\n",
        "z=int(input(\"enter the mark of third subject\"))\n",
        "print(x+y+z)\n"
      ],
      "metadata": {
        "colab": {
          "base_uri": "https://localhost:8080/"
        },
        "id": "HUQ--Y-qi1Sh",
        "outputId": "d53c3027-1ebd-44c7-d727-95af40ba24e1"
      },
      "execution_count": 13,
      "outputs": [
        {
          "output_type": "stream",
          "name": "stdout",
          "text": [
            "enter the mark of first subject10\n",
            "enter the mark of second subject20\n",
            "enter the mark of third subject30\n",
            "60\n"
          ]
        }
      ]
    },
    {
      "cell_type": "code",
      "source": [
        "x=int(input(\"enter the mark of first subject\"))\n",
        "y=int(input(\"enter the mark of second subject\"))\n",
        "z=int(input(\"enter the mark of third subject\"))\n",
        "print(x+y+z/3)"
      ],
      "metadata": {
        "colab": {
          "base_uri": "https://localhost:8080/"
        },
        "id": "mcKmf7v1k19r",
        "outputId": "3b626b41-14cf-4a5e-ac8a-cf7b7f1d487e"
      },
      "execution_count": 18,
      "outputs": [
        {
          "output_type": "stream",
          "name": "stdout",
          "text": [
            "enter the mark of first subject10\n",
            "enter the mark of second subject20\n",
            "enter the mark of third subject30\n",
            "40.0\n"
          ]
        }
      ]
    },
    {
      "cell_type": "code",
      "source": [
        "x=int(input(\"enter the first number\"))\n",
        "y=int(input(\"enter the second number\"))\n",
        "if x>y :\n",
        "   print(x, \"is greater\")\n",
        "else :\n",
        "  print(y, \"is greater\")\n"
      ],
      "metadata": {
        "colab": {
          "base_uri": "https://localhost:8080/"
        },
        "id": "q4osN5UQnVbu",
        "outputId": "9a467106-c001-4ef1-9db7-c5846dcf24f3"
      },
      "execution_count": 35,
      "outputs": [
        {
          "output_type": "stream",
          "name": "stdout",
          "text": [
            "enter the first number50\n",
            "enter the second number10\n",
            "50 is greater\n"
          ]
        }
      ]
    },
    {
      "cell_type": "code",
      "source": [
        "x=int(input(\"enter the first number\"))\n",
        "y=int(input(\"enter the second number\"))\n",
        "z=int(input(\"enter the third number\"))\n",
        "if x>y and x>z :\n",
        "  print(x,\"is the greatest\")\n",
        "if y>x and y>z :\n",
        "  print(y,\"is the greatest\")\n",
        "else:\n",
        "  print(z,\"is the greatest\")"
      ],
      "metadata": {
        "colab": {
          "base_uri": "https://localhost:8080/"
        },
        "id": "yulzuJBCspUx",
        "outputId": "adbe19f9-d905-4280-fec2-59670478ef1e"
      },
      "execution_count": 41,
      "outputs": [
        {
          "output_type": "stream",
          "name": "stdout",
          "text": [
            "enter the first number20\n",
            "enter the second number30\n",
            "enter the third number50\n",
            "50 is the greatest\n"
          ]
        }
      ]
    },
    {
      "cell_type": "code",
      "source": [
        "x=int(input(\"enter the first number\"))\n",
        "if x%2 == 0:\n",
        " print(x,\"is even\")\n",
        "else:\n",
        "   print(x,\"is odd\")"
      ],
      "metadata": {
        "colab": {
          "base_uri": "https://localhost:8080/"
        },
        "id": "CUsXcPjLu0Z5",
        "outputId": "c6866bc5-59e0-4f56-f4b6-787d625a2558"
      },
      "execution_count": 53,
      "outputs": [
        {
          "output_type": "stream",
          "name": "stdout",
          "text": [
            "enter the first number30\n",
            "30 is even\n"
          ]
        }
      ]
    },
    {
      "cell_type": "code",
      "source": [
        "for a in range(1,11):\n",
        "  print(a)"
      ],
      "metadata": {
        "colab": {
          "base_uri": "https://localhost:8080/"
        },
        "id": "3nfux7e0v0gT",
        "outputId": "5a1713a7-1e67-42fa-b8cc-9a3b78c79014"
      },
      "execution_count": 56,
      "outputs": [
        {
          "output_type": "stream",
          "name": "stdout",
          "text": [
            "1\n",
            "2\n",
            "3\n",
            "4\n",
            "5\n",
            "6\n",
            "7\n",
            "8\n",
            "9\n",
            "10\n"
          ]
        }
      ]
    },
    {
      "cell_type": "code",
      "source": [
        "for a in range(1,11):\n",
        " if a%2 == 0:\n",
        "  print(a)"
      ],
      "metadata": {
        "colab": {
          "base_uri": "https://localhost:8080/"
        },
        "id": "GXZkdjaA0OUG",
        "outputId": "f1afee47-5d91-4aac-d638-f57524a1ddd8"
      },
      "execution_count": 58,
      "outputs": [
        {
          "output_type": "stream",
          "name": "stdout",
          "text": [
            "2\n",
            "4\n",
            "6\n",
            "8\n",
            "10\n"
          ]
        }
      ]
    },
    {
      "cell_type": "code",
      "source": [],
      "metadata": {
        "id": "s81iluMl0sNq"
      },
      "execution_count": null,
      "outputs": []
    }
  ]
}